{
 "cells": [
  {
   "cell_type": "markdown",
   "metadata": {},
   "source": [
    "# A \"Simple Program\"\n"
   ]
  },
  {
   "cell_type": "code",
   "execution_count": null,
   "metadata": {},
   "outputs": [],
   "source": [
    "#!pip install pandas_datareader # uncomment and run this to install pandas data reader"
   ]
  },
  {
   "cell_type": "code",
   "execution_count": null,
   "metadata": {
    "tags": [
     "remove_output"
    ]
   },
   "outputs": [],
   "source": [
    "import pandas as pd\n",
    "import numpy as np\n",
    "import pandas_datareader as pdr # you might need to install this (see above)\n",
    "import matplotlib.pyplot as plt\n",
    "import seaborn as sns\n",
    "import statsmodels.api as sm\n",
    "from datetime import datetime\n",
    "\n",
    "# don't copy and paste these lists and number in several places \n",
    "# (which is what the original \"simple program\" did... that's bad programming!)\n",
    "# instead, create a var - if we change it here, it changes everywhere\n",
    "stocks = ['GME','AMC','BB','BBBY','TSLA','GM','VZ']\n",
    "start_yr = datetime(2021, 1, 1)\n",
    "\n",
    "# load\n",
    "stock_prices = pdr.get_data_yahoo(stocks, start=start_yr)\n",
    "stock_prices = stock_prices.filter(like='Adj Close') # reduce to just columns with this in the name\n",
    "stock_prices.columns = stocks # put their tickers as column names\n",
    "stock_prices # print"
   ]
  },
  {
   "cell_type": "code",
   "execution_count": null,
   "metadata": {
    "tags": [
     "remove_output"
    ]
   },
   "outputs": [],
   "source": [
    "# this is wide data... so if we want to create a new variable, we have to do it once for each firm...\n",
    "# what if we have 1000 firms? seems tough to do...\n",
    "# make long/tidy:\n",
    "stock_prices = stock_prices.stack().swaplevel().sort_index().reset_index()\n",
    "stock_prices.columns = ['Firm','Date','Adj Close']\n",
    "stock_prices # print - now that is formatted nicely, like CRSP! \n"
   ]
  },
  {
   "cell_type": "code",
   "execution_count": null,
   "metadata": {
    "tags": [
     "remove_output"
    ]
   },
   "outputs": [],
   "source": [
    "# add return var.\n",
    "# MAKE SURE YOU CREATE THE VARIABLES WITHIN EACH FIRM - use groupby\n",
    "stock_prices['ret'] = stock_prices.groupby('Firm')['Adj Close'].pct_change()\n",
    "stock_prices # print - the first ret for each firm should be missing..."
   ]
  },
  {
   "cell_type": "code",
   "execution_count": null,
   "metadata": {},
   "outputs": [],
   "source": [
    "(stock_prices\n",
    "     .assign(ret=1+stock_prices.ret)              # gross returns\n",
    "     .set_index(['Date','Firm'])['ret'].unstack() # convert to wide format\n",
    "     .cumprod()\n",
    "     .plot()\n",
    ")"
   ]
  }
 ],
 "metadata": {
  "celltoolbar": "Tags",
  "kernelspec": {
   "display_name": "Python 3",
   "language": "python",
   "name": "python3"
  },
  "language_info": {
   "codemirror_mode": {
    "name": "ipython",
    "version": 3
   },
   "file_extension": ".py",
   "mimetype": "text/x-python",
   "name": "python",
   "nbconvert_exporter": "python",
   "pygments_lexer": "ipython3",
   "version": "3.8.5"
  }
 },
 "nbformat": 4,
 "nbformat_minor": 4
}
